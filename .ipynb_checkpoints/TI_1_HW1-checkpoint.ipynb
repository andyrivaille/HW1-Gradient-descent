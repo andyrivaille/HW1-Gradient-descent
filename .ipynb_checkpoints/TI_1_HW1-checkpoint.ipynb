{
 "cells": [
  {
   "cell_type": "markdown",
   "metadata": {},
   "source": [
    "# Homework 0\n",
    "\n",
    "**Name:** Andrea Gonzalez Cruz\n",
    "\n",
    "**e-mail:** andrea.gcruz@alumnos.udg.mx"
   ]
  },
  {
   "cell_type": "markdown",
   "metadata": {},
   "source": [
    "# Modules"
   ]
  },
  {
   "cell_type": "code",
   "execution_count": 1,
   "metadata": {},
   "outputs": [],
   "source": [
    "# Load modules \n",
    "import matplotlib.pyplot as plt # Matplotlib is a library for creating interactive visualization\n",
    "import numpy as np # Numpy is a mathematical library for Python"
   ]
  },
  {
   "cell_type": "markdown",
   "metadata": {},
   "source": [
    "# Theory on the Gradient Descent algorithm"
   ]
  },
  {
   "attachments": {
    "2be53ef8-a6b8-4a92-8be7-d89da1bb4ea2.png": {
     "image/png": "[encoded data removed]"
    }
   },
   "cell_type": "markdown",
   "metadata": {},
   "source": [
    "Gradient Descent is an optimization algorithm for finding a local minimum of a differentiable function, taking repeated steps in the opposite direction of the gradient of the function at the current point. \n",
    "Formally, if we start at a point X0 and move a positive distance (α) in the direction of the negative gradient, our new and improved X1 will be: \n",
    "\n",
    "![image.png](attachment:2be53ef8-a6b8-4a92-8be7-d89da1bb4ea2.png)\n",
    "\n",
    "By repeating this process, the algorithm gradually converges towards the optimal parameter values that minimize the cost. \n",
    "\n",
    "### The Learning Rate\n",
    "The learning rate (α) has a crucial in determinate how quickly the algorithm converges to the minimum of the cost function. It controls the step size taken in each iteration of the process.\n",
    "When the learning rate is too small, the algorithm takes tiny steps towards the minimum of the cost function (making the convergence process extremely slow). Also, if the learning rate is too large, gradient descent can overshoot the minimum and fail to converge."
   ]
  },
  {
   "attachments": {
    "64eefbcb-eb16-4a09-8d2b-518be1e3bacb.png": {
     "image/png": "[encoded data removed]"
    },
    "720e7acb-bdc5-4206-be4f-00d649eb3451.png": {
     "image/png": "[encoded data removed]"
    },
    "79a483f0-c55f-47c2-9332-582a573c34f0.png": {
     "image/png": "[encoded data removed]"
    }
   },
   "cell_type": "markdown",
   "metadata": {},
   "source": [
    "### Rosenbrock Function\n",
    "In this study case, I going to use the Rosenbrock function. In mathematical optimization, this is a non-convex function used as a performance test problem.\n",
    "\n",
    "The function is defined by: ![image.png](attachment:79a483f0-c55f-47c2-9332-582a573c34f0.png)\n",
    "\n",
    "The partial derivate for (df/dx): ![image.png](attachment:720e7acb-bdc5-4206-be4f-00d649eb3451.png)\n",
    "\n",
    "\n",
    "The partial derivate for (df/dy): ![image.png](attachment:64eefbcb-eb16-4a09-8d2b-518be1e3bacb.png)\n"
   ]
  },
  {
   "cell_type": "code",
   "execution_count": 2,
   "metadata": {},
   "outputs": [],
   "source": [
    "# Function to be optimized (Rosenbrock Function)\n",
    "def f_rosen(x, y):\n",
    "    return (1-x)**2 + 100*((y-x**2)**2) #Define the Rosenbrock Function\n",
    "    \n",
    "def dfdx(x, y): \n",
    "    return -2*(1-x) - 400*x*(y-x**2) #Derivative function for df/dx\n",
    "\n",
    "def dfdy(x, y): \n",
    "    return 200*x*(y-x**2) #Derivative function for df/dy  "
   ]
  },
  {
   "cell_type": "code",
   "execution_count": 3,
   "metadata": {},
   "outputs": [],
   "source": [
    "#Define the learning rate, number of iterations and values for initial points\n",
    "\n",
    "#The randint method returns an integer number selected from the specified range in parenthesis\n",
    "x_rosen = np.random.randint(-2, 2)\n",
    "y_rosen = np.random.randint(-2, 2)\n",
    "#The Z point is defined by the f_rosen function and values of the x and y points\n",
    "z_rosen = f_rosen(x_rosen, y_rosen)\n",
    "\n",
    "#Create different lists for storage each point\n",
    "x_point = [x_rosen]\n",
    "y_point = [y_rosen]\n",
    "z_point = [z_rosen]\n",
    "\n",
    "#The minimum value of 0 when the parameters are a = 1 and b = 100.\n",
    "learning_rate = 0.1\n",
    "num_iterations = 100"
   ]
  },
  {
   "cell_type": "code",
   "execution_count": 4,
   "metadata": {},
   "outputs": [
    {
     "ename": "OverflowError",
     "evalue": "(34, 'Result too large')",
     "output_type": "error",
     "traceback": [
      "\u001b[1;31m---------------------------------------------------------------------------\u001b[0m",
      "\u001b[1;31mOverflowError\u001b[0m                             Traceback (most recent call last)",
      "Cell \u001b[1;32mIn[4], line 9\u001b[0m\n\u001b[0;32m      7\u001b[0m x_point\u001b[38;5;241m.\u001b[39mappend(x_rosen) \u001b[38;5;66;03m#Iterations for the x point\u001b[39;00m\n\u001b[0;32m      8\u001b[0m y_point\u001b[38;5;241m.\u001b[39mappend(y_rosen) \u001b[38;5;66;03m#Iterations for the y point\u001b[39;00m\n\u001b[1;32m----> 9\u001b[0m z_point\u001b[38;5;241m.\u001b[39mappend(\u001b[43mf_rosen\u001b[49m\u001b[43m(\u001b[49m\u001b[43mx_rosen\u001b[49m\u001b[43m,\u001b[49m\u001b[43m \u001b[49m\u001b[43my_rosen\u001b[49m\u001b[43m)\u001b[49m) \u001b[38;5;66;03m#Iterations for the z point\u001b[39;00m\n",
      "Cell \u001b[1;32mIn[2], line 3\u001b[0m, in \u001b[0;36mf_rosen\u001b[1;34m(x, y)\u001b[0m\n\u001b[0;32m      2\u001b[0m \u001b[38;5;28;01mdef\u001b[39;00m\u001b[38;5;250m \u001b[39m\u001b[38;5;21mf_rosen\u001b[39m(x, y):\n\u001b[1;32m----> 3\u001b[0m     \u001b[38;5;28;01mreturn\u001b[39;00m \u001b[43m(\u001b[49m\u001b[38;5;241;43m1\u001b[39;49m\u001b[38;5;241;43m-\u001b[39;49m\u001b[43mx\u001b[49m\u001b[43m)\u001b[49m\u001b[38;5;241;43m*\u001b[39;49m\u001b[38;5;241;43m*\u001b[39;49m\u001b[38;5;241;43m2\u001b[39;49m \u001b[38;5;241m+\u001b[39m \u001b[38;5;241m100\u001b[39m\u001b[38;5;241m*\u001b[39m((y\u001b[38;5;241m-\u001b[39mx\u001b[38;5;241m*\u001b[39m\u001b[38;5;241m*\u001b[39m\u001b[38;5;241m2\u001b[39m)\u001b[38;5;241m*\u001b[39m\u001b[38;5;241m*\u001b[39m\u001b[38;5;241m2\u001b[39m)\n",
      "\u001b[1;31mOverflowError\u001b[0m: (34, 'Result too large')"
     ]
    }
   ],
   "source": [
    "#Run the Gradient Descent algorithm\n",
    "for _ in range(num_iterations):\n",
    "    gradient_dx = dfdx(x_rosen, y_rosen) #Gradient evaluated in the df/dx derivate\n",
    "    gradient_dy = dfdy(x_rosen, y_rosen) #Gradient evaluated in the df/dy derivate\n",
    "    x_rosen = x_rosen - learning_rate * gradient_dx #Update the x point using the learning rate and gradient of the df/dx.\n",
    "    y_rosen = y_rosen - learning_rate * gradient_dy #Update the y point using the learning rate and gradient of the df/dy.\n",
    "    x_point.append(x_rosen) #Iterations for the x point\n",
    "    y_point.append(y_rosen) #Iterations for the y point\n",
    "    z_point.append(f_rosen(x_rosen, y_rosen)) #Iterations for the z point"
   ]
  },
  {
   "cell_type": "code",
   "execution_count": 11,
   "metadata": {},
   "outputs": [
    {
     "ename": "NameError",
     "evalue": "name 'f_x' is not defined",
     "output_type": "error",
     "traceback": [
      "\u001b[1;31m---------------------------------------------------------------------------\u001b[0m",
      "\u001b[1;31mNameError\u001b[0m                                 Traceback (most recent call last)",
      "Cell \u001b[1;32mIn[11], line 4\u001b[0m\n\u001b[0;32m      1\u001b[0m \u001b[38;5;66;03m# Plot the results\u001b[39;00m\n\u001b[0;32m      2\u001b[0m \n\u001b[0;32m      3\u001b[0m \u001b[38;5;66;03m#2D Graphic of the x^2*cos(x)-x function\u001b[39;00m\n\u001b[1;32m----> 4\u001b[0m plt\u001b[38;5;241m.\u001b[39mplot(x, \u001b[43mf_x\u001b[49m, label\u001b[38;5;241m=\u001b[39m \u001b[38;5;124m\"\u001b[39m\u001b[38;5;124mfunction\u001b[39m\u001b[38;5;124m\"\u001b[39m)\n\u001b[0;32m      5\u001b[0m plt\u001b[38;5;241m.\u001b[39mplot(x_ini, f_x_ini, \u001b[38;5;124m'\u001b[39m\u001b[38;5;124mo\u001b[39m\u001b[38;5;124m'\u001b[39m, label\u001b[38;5;241m=\u001b[39m \u001b[38;5;124m\"\u001b[39m\u001b[38;5;124minitpoint\u001b[39m\u001b[38;5;124m\"\u001b[39m)\n\u001b[0;32m      6\u001b[0m plt\u001b[38;5;241m.\u001b[39mplot(points, [f(x) \u001b[38;5;28;01mfor\u001b[39;00m x \u001b[38;5;129;01min\u001b[39;00m points], \u001b[38;5;124m'\u001b[39m\u001b[38;5;124mro\u001b[39m\u001b[38;5;124m'\u001b[39m, markersize \u001b[38;5;241m=\u001b[39m \u001b[38;5;241m3\u001b[39m, label\u001b[38;5;241m=\u001b[39m \u001b[38;5;124m'\u001b[39m\u001b[38;5;124mdescent steps\u001b[39m\u001b[38;5;124m'\u001b[39m)\n",
      "\u001b[1;31mNameError\u001b[0m: name 'f_x' is not defined"
     ]
    }
   ],
   "source": [
    "# Plot the results\n",
    "\n",
    "#Meshgird to evaluate the Rosenbrock Function\n",
    "#The arange function specified an initial and final values with an increment between them. In this case, the increment is 0.1\n",
    "x_range = np.arange(-2, 2, 0.1) \n",
    "y_range = np.arange(-2, 2, 0.1)\n",
    "x, y = np.meshgrid(x_range, y_range)\n",
    "z = f_rosen(x, y)\n",
    "\n",
    "#2D Graphic of the Rosenbrock Function\n",
    "plt.plot(x, y, z, label= \"Function\")\n",
    "plt.plot(x_ini, f_x_ini, 'o', label= \"initpoint\")\n",
    "plt.plot(points, [f(x) for x in points], 'ro', markersize = 3, label= 'descent steps')\n",
    "plt.plot(points[-1], f(points[-1]), 'bo', label=\"lastpoint\")\n",
    "plt.title(\"Gradient Descent of Rosenbrock Function\")\n",
    "plt.xlabel(\"x\")\n",
    "plt.xlim(-10, 10)\n",
    "plt.ylim(-50, 100)\n",
    "plt.ylabel(\"f(x)\")\n",
    "plt.legend()\n",
    "plt.grid(True)\n",
    "plt.show()"
   ]
  },
  {
   "cell_type": "code",
   "execution_count": null,
   "metadata": {},
   "outputs": [],
   "source": []
  },
  {
   "cell_type": "code",
   "execution_count": null,
   "metadata": {},
   "outputs": [],
   "source": []
  }
 ],
 "metadata": {
  "kernelspec": {
   "display_name": "leftenv",
   "language": "python",
   "name": "leftenv"
  },
  "language_info": {
   "codemirror_mode": {
    "name": "ipython",
    "version": 3
   },
   "file_extension": ".py",
   "mimetype": "text/x-python",
   "name": "python",
   "nbconvert_exporter": "python",
   "pygments_lexer": "ipython3",
   "version": "3.10.0"
  }
 },
 "nbformat": 4,
 "nbformat_minor": 4
}
